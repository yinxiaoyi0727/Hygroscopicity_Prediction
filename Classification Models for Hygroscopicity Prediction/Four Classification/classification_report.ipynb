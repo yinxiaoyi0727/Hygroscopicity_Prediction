{
 "cells": [
  {
   "cell_type": "code",
   "execution_count": 1,
   "id": "e7d04fd0",
   "metadata": {},
   "outputs": [
    {
     "name": "stdout",
     "output_type": "stream",
     "text": [
      "                      precision    recall  f1-score   support\n",
      "\n",
      "         hygroscopic      0.605     0.538     0.570        91\n",
      "      no hygroscopic      0.823     0.898     0.859       315\n",
      "slightly hygroscopic      0.638     0.642     0.640       162\n",
      "    very hygroscopic      0.737     0.359     0.483        39\n",
      "\n",
      "            accuracy                          0.741       607\n",
      "           macro avg      0.701     0.609     0.638       607\n",
      "        weighted avg      0.735     0.741     0.733       607\n",
      "\n"
     ]
    }
   ],
   "source": [
    "import pandas as pd\n",
    "from sklearn.metrics import classification_report\n",
    "\n",
    "# 读取预测结果\n",
    "df = pd.read_csv(\"test_result_TabPFN_four_classification.csv\")\n",
    "\n",
    "# 真实标签和预测标签\n",
    "y_true = df[\"true_label\"]\n",
    "y_pred = df[\"predicted_label\"]\n",
    "\n",
    "# 生成性能表格\n",
    "report = classification_report(y_true, y_pred, digits=3)\n",
    "print(report)\n"
   ]
  },
  {
   "cell_type": "code",
   "execution_count": null,
   "id": "0180736c",
   "metadata": {},
   "outputs": [],
   "source": []
  },
  {
   "cell_type": "code",
   "execution_count": null,
   "id": "cf60d006",
   "metadata": {},
   "outputs": [],
   "source": []
  }
 ],
 "metadata": {
  "kernelspec": {
   "display_name": "rdkit2023",
   "language": "python",
   "name": "python3"
  },
  "language_info": {
   "codemirror_mode": {
    "name": "ipython",
    "version": 3
   },
   "file_extension": ".py",
   "mimetype": "text/x-python",
   "name": "python",
   "nbconvert_exporter": "python",
   "pygments_lexer": "ipython3",
   "version": "3.10.16"
  }
 },
 "nbformat": 4,
 "nbformat_minor": 5
}
